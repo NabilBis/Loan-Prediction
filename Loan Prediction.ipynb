{
 "cells": [
  {
   "cell_type": "markdown",
   "metadata": {},
   "source": [
    "# Problem definition:\n",
    "  - Automate the loan eligibility process (real time) based on customer detail provided while filling online application form"
   ]
  },
  {
   "cell_type": "markdown",
   "metadata": {},
   "source": [
    "#### Project's librairies"
   ]
  },
  {
   "cell_type": "code",
   "execution_count": 178,
   "metadata": {},
   "outputs": [],
   "source": [
    "import numpy as np\n",
    "import pandas as pd\n",
    "import matplotlib.pyplot as plt\n",
    "from scipy.stats import chi2_contingency\n",
    "from scipy.stats import chi2"
   ]
  },
  {
   "cell_type": "markdown",
   "metadata": {},
   "source": [
    "1. ### Explore data:\n",
    "  - **Data importation & Variable Identification**\n",
    "  "
   ]
  },
  {
   "cell_type": "code",
   "execution_count": 2,
   "metadata": {},
   "outputs": [
    {
     "data": {
      "text/plain": [
       "Loan_ID               object\n",
       "Gender                object\n",
       "Married               object\n",
       "Dependents            object\n",
       "Education             object\n",
       "Self_Employed         object\n",
       "ApplicantIncome        int64\n",
       "CoapplicantIncome    float64\n",
       "LoanAmount           float64\n",
       "Loan_Amount_Term     float64\n",
       "Credit_History       float64\n",
       "Property_Area         object\n",
       "Loan_Status           object\n",
       "dtype: object"
      ]
     },
     "execution_count": 2,
     "metadata": {},
     "output_type": "execute_result"
    }
   ],
   "source": [
    "data = pd.read_csv('/Users/macos/Desktop/train_ctrUa4K.csv')\n",
    "data.dtypes"
   ]
  },
  {
   "cell_type": "code",
   "execution_count": 63,
   "metadata": {},
   "outputs": [
    {
     "name": "stdout",
     "output_type": "stream",
     "text": [
      "Index(['Loan_ID', 'Gender', 'Married', 'Dependents', 'Education',\n",
      "       'Self_Employed', 'ApplicantIncome', 'CoapplicantIncome', 'LoanAmount',\n",
      "       'Loan_Amount_Term', 'Credit_History', 'Property_Area', 'Loan_Status'],\n",
      "      dtype='object')\n"
     ]
    }
   ],
   "source": [
    "categorical_features  = data[['Gender', 'Married', 'Dependents', 'Self_Employed', 'Property_Area']].copy()\n",
    "numerical_features  = data[['ApplicantIncome', 'CoapplicantIncome', 'LoanAmount', 'Loan_Amount_Term']].copy()"
   ]
  },
  {
   "cell_type": "markdown",
   "metadata": {},
   "source": [
    " - **Univariate Analysis**\n",
    "   - \"CountinuousVariableExploration\" class : initializer's takes a continuous variable and its name as arguments and provide methods to compute and visualize the **tendecy** and **spread** of the variable.\n"
   ]
  },
  {
   "cell_type": "code",
   "execution_count": 5,
   "metadata": {},
   "outputs": [],
   "source": [
    "class CountinuousVariableExploration:\n",
    "    \n",
    "    def __init__(self, variable, name):\n",
    "        self.variable = variable\n",
    "        self.var_name = name\n",
    "        \n",
    "    def tendecy_measures(self):\n",
    "        print(\"        TENDECY MEASURES\")\n",
    "        print(\"Mean :\")\n",
    "        print(self.variable.mean())\n",
    "        print(\"Median :\")\n",
    "        print(self.variable.median())\n",
    "        print(\"Mode :\")\n",
    "        print(self.variable.mode())\n",
    "        print(\"Min :\")\n",
    "        print(self.variable.min())\n",
    "        print(\"Max :\")\n",
    "        print(self.variable.max())\n",
    "        \n",
    "    def measure_of_dispersion(self):\n",
    "        print(\"        DISPERSION MEASURE\")\n",
    "        print(\"Range\")\n",
    "        print(self.variable.max()-self.variable.min())\n",
    "        print(\"Quantiles : \")\n",
    "        print(self.variable.quantile([.25, .5, .75]))\n",
    "        print(\"Interquantile range :\")\n",
    "        iqr = self.variable.quantile(.75)-self.variable.quantile(.25)\n",
    "        print(iqr)\n",
    "        print(\"Variance :\")\n",
    "        print(self.variable.var())\n",
    "        print(\"Standard Deviation :\")\n",
    "        print(self.variable.std())\n",
    "        print(\"Lower inner fence :\")\n",
    "        qar = list(self.variable.quantile([.25, .5, .75]))\n",
    "        print(qar[0]-1.5*iqr)\n",
    "        print(\"Upper inner fence :\")\n",
    "        print(qar[2]+1.5*iqr)\n",
    "        print(\"Lower outer fence :\")\n",
    "        print(qar[0]-3*iqr)\n",
    "        print(\"Upper outer fence :\")\n",
    "        print(qar[2]+3*iqr)\n",
    "        print(\"\\n\")\n",
    "        \n",
    "    \n",
    "    def variable_visualization(self):\n",
    "\n",
    "        def split_to_quartiles_arrays(arr):\n",
    "            vals = list(arr.quantile([.25, .5, .75]))\n",
    "            quartiles = []\n",
    "            quartiles.append(arr[arr<vals[0]])\n",
    "            mask = (arr>vals[0]) & (arr<vals[1])\n",
    "            quartiles.append(arr[mask])\n",
    "            mask = (arr>vals[1]) & (arr<vals[2])\n",
    "            quartiles.append(arr[mask])\n",
    "            quartiles.append(arr[arr>vals[2]])\n",
    "            return quartiles\n",
    "        \n",
    "        plt.hist(x=self.variable, bins=50, color='red', alpha=0.7, rwidth=0.85)\n",
    "        plt.title(self.var_name)\n",
    "        \n",
    "        \n",
    "        quartiles = split_to_quartiles_arrays(self.variable)\n",
    "        fig, ((ax1, ax2), (ax3, ax4)) = plt.subplots(2, 2)\n",
    "        fig.suptitle(self.var_name + ' quartiles histograms')\n",
    "        ax1.hist(x=quartiles[0], bins=50, color='magenta', alpha=0.7, rwidth=0.85)\n",
    "        ax2.hist(x=quartiles[1], bins=50, color='orange', alpha=0.7, rwidth=0.85)\n",
    "        ax3.hist(x=quartiles[2], bins=50, color='orange', alpha=0.7, rwidth=0.85)\n",
    "        ax4.hist(x=quartiles[3], bins=50, color='brown', alpha=0.7, rwidth=0.85)\n",
    "        \n",
    "        \n",
    "    \n",
    "    def conclusions(self):\n",
    "        # Standard deviation : spread of the data from the mean\n",
    "        # Normaly all of the data should be in the range [mean ±Standard deviation]\n",
    "        # print the percentage of data that doesn't sit in this range\n",
    "        mean = self.variable.mean()\n",
    "        standard_deviation = self.variable.std()\n",
    "        data_in_range = self.variable[(self.variable > mean-3*standard_deviation) & (self.variable < mean+3*standard_deviation)]\n",
    "        print(\"{}% of data sit in the range(mean ± 3*standard_deviation) : [{}, {}]\".format(len(data_in_range)/len(self.variable), mean-3*standard_deviation, mean+3*standard_deviation))\n",
    "        qar = list(self.variable.quantile([.25, .5, .75]))\n",
    "        iqr = qar[2]-qar[0]\n",
    "        weak_outliers = self.variable[(self.variable > qar[0]-1.5*iqr) & (self.variable < qar[2]+1.5*iqr)]\n",
    "        print(\"{}% of data are weak outliers\".format(1 - len(weak_outliers)/len(self.variable)))\n",
    "        strong_outliers = self.variable[(self.variable > qar[0]-3*iqr) & (self.variable < qar[2]+3*iqr)]\n",
    "        print(\"{}% of data are strong outliers\".format(1 - len(strong_outliers)/len(self.variable)))"
   ]
  },
  {
   "cell_type": "code",
   "execution_count": 6,
   "metadata": {},
   "outputs": [
    {
     "name": "stdout",
     "output_type": "stream",
     "text": [
      "        TENDECY MEASURES\n",
      "Mean :\n",
      "5403.459283387622\n",
      "Median :\n",
      "3812.5\n",
      "Mode :\n",
      "0    2500\n",
      "dtype: int64\n",
      "Min :\n",
      "150\n",
      "Max :\n",
      "81000\n",
      "        DISPERSION MEASURE\n",
      "Range\n",
      "80850\n",
      "Quantiles : \n",
      "0.25    2877.5\n",
      "0.50    3812.5\n",
      "0.75    5795.0\n",
      "Name: ApplicantIncome, dtype: float64\n",
      "Interquantile range :\n",
      "2917.5\n",
      "Variance :\n",
      "37320390.167181164\n",
      "Standard Deviation :\n",
      "6109.041673387174\n",
      "Lower inner fence :\n",
      "-1498.75\n",
      "Upper inner fence :\n",
      "10171.25\n",
      "Lower outer fence :\n",
      "-5875.0\n",
      "Upper outer fence :\n",
      "14547.5\n",
      "\n",
      "\n"
     ]
    },
    {
     "data": {
      "image/png": "[encoded data removed]",
      "text/plain": [
       "<Figure size 432x288 with 1 Axes>"
      ]
     },
     "metadata": {
      "needs_background": "light"
     },
     "output_type": "display_data"
    },
    {
     "data": {
      "image/png": "[encoded data removed]",
      "text/plain": [
       "<Figure size 432x288 with 4 Axes>"
      ]
     },
     "metadata": {
      "needs_background": "light"
     },
     "output_type": "display_data"
    }
   ],
   "source": [
    "continuous_exploration = CountinuousVariableExploration(data.ApplicantIncome, 'Applicant Income')\n",
    "continuous_exploration.tendecy_measures()\n",
    "continuous_exploration.measure_of_dispersion()\n",
    "continuous_exploration.variable_visualization()"
   ]
  },
  {
   "cell_type": "markdown",
   "metadata": {},
   "source": [
    "   - \"CategoricalVariableExploration\" class : initializer's takes a ordinal variable and its name as arguments and  visualizes(count) the variable."
   ]
  },
  {
   "cell_type": "code",
   "execution_count": 8,
   "metadata": {},
   "outputs": [],
   "source": [
    "class CategoricalVariableExploration:\n",
    "    \n",
    "    def __init__(self, variable, variable_name):\n",
    "        self.variable = variable\n",
    "        self.variable_name = variable_name\n",
    "        \n",
    "    \n",
    "    def variable_visualization(self):\n",
    "        bar = self.variable.value_counts().plot.bar()\n",
    "        bar.title.set_text(\"{}'s Bar chart\".format(self.variable_name))"
   ]
  },
  {
   "cell_type": "code",
   "execution_count": 10,
   "metadata": {},
   "outputs": [
    {
     "data": {
      "image/png": "[encoded data removed]",
      "text/plain": [
       "<Figure size 432x288 with 1 Axes>"
      ]
     },
     "metadata": {
      "needs_background": "light"
     },
     "output_type": "display_data"
    }
   ],
   "source": [
    "categorical = CategoricalVariableExploration(data.Property_Area, \"Property_Area\")\n",
    "categorical.variable_visualization()"
   ]
  },
  {
   "cell_type": "markdown",
   "metadata": {},
   "source": [
    " - **Bivariate Analysis**\n",
    "   - **Continuous & continuous**\n"
   ]
  },
  {
   "cell_type": "code",
   "execution_count": 11,
   "metadata": {},
   "outputs": [],
   "source": [
    "class COOCBIVARIATE:\n",
    "    \n",
    "    def __init__(self, var1, var2, var1_name=\"\", var2_name =\"\"):\n",
    "        self.var1 = var1\n",
    "        self.var2 = var2\n",
    "        self.var1_name = var1_name\n",
    "        self.var2_name = var2_name\n",
    "        \n",
    "    \n",
    "    def scatter_vars(self):\n",
    "        plt.scatter(self.var1, self.var2)\n",
    "        plt.xlabel(self.var1_name)\n",
    "        plt.ylabel(self.var2_name)\n",
    "        plt.show()\n",
    "        \n",
    "    def pearson_correlation(self):\n",
    "        print(\"Pearson's correlation \")\n",
    "        print(self.var1.corr(self.var2, method ='pearson'))\n",
    "    \n",
    "    def conclusions(self):\n",
    "        corr = self.var1.corr(self.var2, method ='pearson')\n",
    "        print(\"Pearson's correlation \")\n",
    "        print(corr)\n",
    "        if corr <=-1 and corr >=-0.5:\n",
    "            print(\"Strong negative linear relationship between {} and {}\".format(self.var1_name, self.var2_name))\n",
    "        elif corr>=0.5 and corr<=1:\n",
    "            print(\"Strong positive linear relationship between {} and {}\".format(self.var1_name, self.var2_name))\n",
    "        else :\n",
    "            print(\"No linear relationship between {} and {}\".format(self.var1_name, self.var2_name))"
   ]
  },
  {
   "cell_type": "code",
   "execution_count": 13,
   "metadata": {},
   "outputs": [
    {
     "data": {
      "image/png": "[encoded data removed]",
      "text/plain": [
       "<Figure size 432x288 with 1 Axes>"
      ]
     },
     "metadata": {
      "needs_background": "light"
     },
     "output_type": "display_data"
    },
    {
     "name": "stdout",
     "output_type": "stream",
     "text": [
      "Pearson's correlation \n",
      "-0.11660458122889968\n",
      "No linear relationship between Applicant income and Coapplicant income\n"
     ]
    }
   ],
   "source": [
    "cv  = COOCBIVARIATE(data.ApplicantIncome, data.CoapplicantIncome, \"Applicant income\", \"Coapplicant income\")\n",
    "cv.scatter_vars()\n",
    "cv.conclusions()"
   ]
  },
  {
   "cell_type": "markdown",
   "metadata": {},
   "source": [
    "   - **Categorical and categorical**"
   ]
  },
  {
   "cell_type": "code",
   "execution_count": 179,
   "metadata": {},
   "outputs": [],
   "source": [
    "class CAACBIVARIATE:\n",
    "    \n",
    "    def __init__(self, var1, var2, var1_name=\"\", var2_name =\"\"):\n",
    "        self.var1 = var1\n",
    "        self.var2 = var2\n",
    "        self.var1_name = var1_name\n",
    "        self.var2_name = var2_name\n",
    "        self.crosstab = pd.crosstab(self.var1, self.var2)\n",
    "      \n",
    "    \n",
    "    def chi_square(self, prob = 0.95):\n",
    "        stat, p, dof, expected = chi2_contingency(self.crosstab)\n",
    "        # interpret test-statistic\n",
    "        critical = chi2.ppf(prob, dof)\n",
    "        print('probability = %.3f, critical = %.3f, stat = %.3f' % (prob, critical, stat))\n",
    "        if abs(stat) >= critical:\n",
    "            print('{} & {} are Dependent'.format(self.var1_name, self.var2_name))\n",
    "        else:\n",
    "            print('{} & {} are Independent'.format(self.var1_name, self.var2_name))\n",
    "        # interpret p-value\n",
    "        alpha = 1.0 - prob\n",
    "        print('significance=%.3f, p=%.3f' % (alpha, p))\n",
    "        if p <= alpha:\n",
    "            print('{} & {} are Dependent'.format(self.var1_name, self.var2_name))\n",
    "        else:\n",
    "            print('{} & {} are Independent'.format(self.var1_name, self.var2_name))\n",
    "    \n",
    "    def f_score(self):\n",
    "        pass\n",
    "    \n",
    "    def crosstab(self):\n",
    "        print(self.crosstab)\n",
    "        self.crosstab.plot(kind='bar', stacked=True, color=['red','blue'], grid=False)"
   ]
  },
  {
   "cell_type": "code",
   "execution_count": 182,
   "metadata": {},
   "outputs": [
    {
     "name": "stdout",
     "output_type": "stream",
     "text": [
      "Loan_Status     N    Y\n",
      "Property_Area         \n",
      "Rural          69  110\n",
      "Semiurban      54  179\n",
      "Urban          69  133\n",
      "probability = 0.950, critical = 5.991, stat = 12.298\n",
      "Property_Area & Loan_Status are Dependent\n",
      "significance=0.050, p=0.002\n",
      "Property_Area & Loan_Status are Dependent\n"
     ]
    },
    {
     "data": {
      "image/png": "[encoded data removed]",
      "text/plain": [
       "<Figure size 432x288 with 1 Axes>"
      ]
     },
     "metadata": {
      "needs_background": "light"
     },
     "output_type": "display_data"
    }
   ],
   "source": [
    "t = CAACBIVARIATE(data.Property_Area, data.Loan_Status, data.Property_Area.name, data.Loan_Status.name)\n",
    "t.crosstab()\n",
    "t.chi_square()"
   ]
  }
 ],
 "metadata": {
  "kernelspec": {
   "display_name": "Python 3",
   "language": "python",
   "name": "python3"
  },
  "language_info": {
   "codemirror_mode": {
    "name": "ipython",
    "version": 3
   },
   "file_extension": ".py",
   "mimetype": "text/x-python",
   "name": "python",
   "nbconvert_exporter": "python",
   "pygments_lexer": "ipython3",
   "version": "3.7.3"
  }
 },
 "nbformat": 4,
 "nbformat_minor": 2
}
