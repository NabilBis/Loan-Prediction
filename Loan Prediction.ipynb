{
 "cells": [
  {
   "cell_type": "markdown",
   "metadata": {},
   "source": [
    "# Problem definition:\n",
    "  - Automate the loan eligibility process (real time) based on customer detail provided while filling online application form"
   ]
  },
  {
   "cell_type": "markdown",
   "metadata": {},
   "source": [
    "#### Project's librairies"
   ]
  },
  {
   "cell_type": "code",
   "execution_count": 1,
   "metadata": {},
   "outputs": [],
   "source": [
    "import numpy as np\n",
    "import pandas as pd\n",
    "import matplotlib.pyplot as plt\n",
    "from scipy.stats import chi2_contingency\n",
    "from scipy.stats import chi2\n",
    "import seaborn as sns\n",
    "from scipy.stats import shapiro\n",
    "from scipy.stats import pointbiserialr"
   ]
  },
  {
   "cell_type": "markdown",
   "metadata": {},
   "source": [
    "1. ### Explore data:\n",
    "  - **Data importation & Variable Identification**\n",
    "  "
   ]
  },
  {
   "cell_type": "code",
   "execution_count": 2,
   "metadata": {},
   "outputs": [
    {
     "data": {
      "text/plain": [
       "Loan_ID               object\n",
       "Gender                object\n",
       "Married               object\n",
       "Dependents            object\n",
       "Education             object\n",
       "Self_Employed         object\n",
       "ApplicantIncome        int64\n",
       "CoapplicantIncome    float64\n",
       "LoanAmount           float64\n",
       "Loan_Amount_Term     float64\n",
       "Credit_History       float64\n",
       "Property_Area         object\n",
       "Loan_Status           object\n",
       "dtype: object"
      ]
     },
     "execution_count": 2,
     "metadata": {},
     "output_type": "execute_result"
    }
   ],
   "source": [
    "data = pd.read_csv('/Users/macos/Desktop/train_ctrUa4K.csv')\n",
    "data.dtypes"
   ]
  },
  {
   "cell_type": "code",
   "execution_count": 3,
   "metadata": {},
   "outputs": [],
   "source": [
    "categorical_features  = data[['Gender', 'Married', 'Dependents', 'Self_Employed', 'Property_Area']].copy()\n",
    "numerical_features  = data[['ApplicantIncome', 'CoapplicantIncome', 'LoanAmount', 'Loan_Amount_Term']].copy()"
   ]
  },
  {
   "cell_type": "markdown",
   "metadata": {},
   "source": [
    " - **Univariate Analysis**\n",
    "   - \"CountinuousVariableExploration\" class : initializer's takes a continuous variable and its name as arguments and provide methods to compute and visualize the **tendecy** and **spread** of the variable.\n"
   ]
  },
  {
   "cell_type": "code",
   "execution_count": 4,
   "metadata": {},
   "outputs": [],
   "source": [
    "class CountinuousVariableExploration:\n",
    "    \n",
    "    def __init__(self, variable, name):\n",
    "        self.variable = variable\n",
    "        self.var_name = name\n",
    "        \n",
    "    def tendecy_measures(self):\n",
    "        print(\"        TENDECY MEASURES\")\n",
    "        print(\"Mean :\")\n",
    "        print(self.variable.mean())\n",
    "        print(\"Median :\")\n",
    "        print(self.variable.median())\n",
    "        print(\"Mode :\")\n",
    "        print(self.variable.mode())\n",
    "        print(\"Min :\")\n",
    "        print(self.variable.min())\n",
    "        print(\"Max :\")\n",
    "        print(self.variable.max())\n",
    "        \n",
    "    def measure_of_dispersion(self):\n",
    "        print(\"        DISPERSION MEASURE\")\n",
    "        print(\"Range\")\n",
    "        print(self.variable.max()-self.variable.min())\n",
    "        print(\"Quantiles : \")\n",
    "        print(self.variable.quantile([.25, .5, .75]))\n",
    "        print(\"Interquantile range :\")\n",
    "        iqr = self.variable.quantile(.75)-self.variable.quantile(.25)\n",
    "        print(iqr)\n",
    "        print(\"Variance :\")\n",
    "        print(self.variable.var())\n",
    "        print(\"Standard Deviation :\")\n",
    "        print(self.variable.std())\n",
    "        print(\"Lower inner fence :\")\n",
    "        qar = list(self.variable.quantile([.25, .5, .75]))\n",
    "        print(qar[0]-1.5*iqr)\n",
    "        print(\"Upper inner fence :\")\n",
    "        print(qar[2]+1.5*iqr)\n",
    "        print(\"Lower outer fence :\")\n",
    "        print(qar[0]-3*iqr)\n",
    "        print(\"Upper outer fence :\")\n",
    "        print(qar[2]+3*iqr)\n",
    "        print(\"\\n\")\n",
    "        \n",
    "    \n",
    "    def variable_visualization(self):\n",
    "\n",
    "        def split_to_quartiles_arrays(arr):\n",
    "            vals = list(arr.quantile([.25, .5, .75]))\n",
    "            quartiles = []\n",
    "            quartiles.append(arr[arr<vals[0]])\n",
    "            mask = (arr>vals[0]) & (arr<vals[1])\n",
    "            quartiles.append(arr[mask])\n",
    "            mask = (arr>vals[1]) & (arr<vals[2])\n",
    "            quartiles.append(arr[mask])\n",
    "            quartiles.append(arr[arr>vals[2]])\n",
    "            return quartiles\n",
    "        \n",
    "        plt.hist(x=self.variable, bins=50, color='red', alpha=0.7, rwidth=0.85)\n",
    "        plt.title(self.var_name)\n",
    "        \n",
    "        \n",
    "        quartiles = split_to_quartiles_arrays(self.variable)\n",
    "        fig, ((ax1, ax2), (ax3, ax4)) = plt.subplots(2, 2)\n",
    "        fig.suptitle(self.var_name + ' quartiles histograms')\n",
    "        ax1.hist(x=quartiles[0], bins=50, color='magenta', alpha=0.7, rwidth=0.85)\n",
    "        ax2.hist(x=quartiles[1], bins=50, color='orange', alpha=0.7, rwidth=0.85)\n",
    "        ax3.hist(x=quartiles[2], bins=50, color='orange', alpha=0.7, rwidth=0.85)\n",
    "        ax4.hist(x=quartiles[3], bins=50, color='brown', alpha=0.7, rwidth=0.85)\n",
    "        \n",
    "        \n",
    "    \n",
    "    def conclusions(self):\n",
    "        # Standard deviation : spread of the data from the mean\n",
    "        # Normaly all of the data should be in the range [mean ±Standard deviation]\n",
    "        # print the percentage of data that doesn't sit in this range\n",
    "        mean = self.variable.mean()\n",
    "        standard_deviation = self.variable.std()\n",
    "        data_in_range = self.variable[(self.variable > mean-3*standard_deviation) & (self.variable < mean+3*standard_deviation)]\n",
    "        print(\"{}% of data sit in the range(mean ± 3*standard_deviation) : [{}, {}]\".format(len(data_in_range)/len(self.variable), mean-3*standard_deviation, mean+3*standard_deviation))\n",
    "        qar = list(self.variable.quantile([.25, .5, .75]))\n",
    "        iqr = qar[2]-qar[0]\n",
    "        weak_outliers = self.variable[(self.variable > qar[0]-1.5*iqr) & (self.variable < qar[2]+1.5*iqr)]\n",
    "        print(\"{}% of data are weak outliers\".format(1 - len(weak_outliers)/len(self.variable)))\n",
    "        strong_outliers = self.variable[(self.variable > qar[0]-3*iqr) & (self.variable < qar[2]+3*iqr)]\n",
    "        print(\"{}% of data are strong outliers\".format(1 - len(strong_outliers)/len(self.variable)))"
   ]
  },
  {
   "cell_type": "code",
   "execution_count": 5,
   "metadata": {},
   "outputs": [
    {
     "name": "stdout",
     "output_type": "stream",
     "text": [
      "        TENDECY MEASURES\n",
      "Mean :\n",
      "5403.459283387622\n",
      "Median :\n",
      "3812.5\n",
      "Mode :\n",
      "0    2500\n",
      "dtype: int64\n",
      "Min :\n",
      "150\n",
      "Max :\n",
      "81000\n",
      "        DISPERSION MEASURE\n",
      "Range\n",
      "80850\n",
      "Quantiles : \n",
      "0.25    2877.5\n",
      "0.50    3812.5\n",
      "0.75    5795.0\n",
      "Name: ApplicantIncome, dtype: float64\n",
      "Interquantile range :\n",
      "2917.5\n",
      "Variance :\n",
      "37320390.167181164\n",
      "Standard Deviation :\n",
      "6109.041673387174\n",
      "Lower inner fence :\n",
      "-1498.75\n",
      "Upper inner fence :\n",
      "10171.25\n",
      "Lower outer fence :\n",
      "-5875.0\n",
      "Upper outer fence :\n",
      "14547.5\n",
      "\n",
      "\n"
     ]
    },
    {
     "data": {
      "image/png": "[encoded data removed]",
      "text/plain": [
       "<Figure size 432x288 with 1 Axes>"
      ]
     },
     "metadata": {
      "needs_background": "light"
     },
     "output_type": "display_data"
    },
    {
     "data": {
      "image/png": "[encoded data removed]",
      "text/plain": [
       "<Figure size 432x288 with 4 Axes>"
      ]
     },
     "metadata": {
      "needs_background": "light"
     },
     "output_type": "display_data"
    }
   ],
   "source": [
    "continuous_exploration = CountinuousVariableExploration(data.ApplicantIncome, 'Applicant Income')\n",
    "continuous_exploration.tendecy_measures()\n",
    "continuous_exploration.measure_of_dispersion()\n",
    "continuous_exploration.variable_visualization()"
   ]
  },
  {
   "cell_type": "markdown",
   "metadata": {},
   "source": [
    "   - \"CategoricalVariableExploration\" class : initializer's takes a ordinal variable and its name as arguments and  visualizes(count) the variable."
   ]
  },
  {
   "cell_type": "code",
   "execution_count": 6,
   "metadata": {},
   "outputs": [],
   "source": [
    "class CategoricalVariableExploration:\n",
    "    \n",
    "    def __init__(self, variable, variable_name):\n",
    "        self.variable = variable\n",
    "        self.variable_name = variable_name\n",
    "        \n",
    "    \n",
    "    def variable_visualization(self):\n",
    "        bar = self.variable.value_counts().plot.bar()\n",
    "        bar.title.set_text(\"{}'s Bar chart\".format(self.variable_name))"
   ]
  },
  {
   "cell_type": "code",
   "execution_count": 7,
   "metadata": {},
   "outputs": [
    {
     "data": {
      "image/png": "[encoded data removed]",
      "text/plain": [
       "<Figure size 432x288 with 1 Axes>"
      ]
     },
     "metadata": {
      "needs_background": "light"
     },
     "output_type": "display_data"
    }
   ],
   "source": [
    "categorical = CategoricalVariableExploration(data.Property_Area, \"Property_Area\")\n",
    "categorical.variable_visualization()"
   ]
  },
  {
   "cell_type": "markdown",
   "metadata": {},
   "source": [
    " - **Bivariate Analysis**\n",
    "   - **Continuous & continuous**\n"
   ]
  },
  {
   "cell_type": "code",
   "execution_count": 8,
   "metadata": {},
   "outputs": [],
   "source": [
    "class COOCBIVARIATE:\n",
    "    \n",
    "    def __init__(self, var1, var2, var1_name=\"\", var2_name =\"\"):\n",
    "        self.var1 = var1\n",
    "        self.var2 = var2\n",
    "        self.var1_name = var1_name\n",
    "        self.var2_name = var2_name\n",
    "        \n",
    "    \n",
    "    def scatter_vars(self):\n",
    "        plt.scatter(self.var1, self.var2)\n",
    "        plt.xlabel(self.var1_name)\n",
    "        plt.ylabel(self.var2_name)\n",
    "        plt.show()\n",
    "       \n",
    "    def shapiro_wilks(self, var):#test if a variable is normaly dstributed\n",
    "        is_normally_disributed = False\n",
    "        stat, p = shapiro(var)\n",
    "        print('Statistics=%.3f, p=%.3f' % (stat, p))\n",
    "        # interpret\n",
    "        alpha = 0.05\n",
    "        if p > alpha:\n",
    "            is_normally_disributed = True\n",
    "#             print('Sample looks Gaussian (fail to reject H0)')\n",
    "            print(\"Variable is normally distributed\")\n",
    "        else:\n",
    "#             print('Sample does not look Gaussian (reject H0)')\n",
    "            print(\"Variable is not normally distributed\")\n",
    "        return is_normally_disributed\n",
    "    \n",
    "    def pearson_correlation(self):\n",
    "        pearson = None\n",
    "        var1_is_normally_distributed = self.shapiro_wilks(self.var1)\n",
    "        var2_is_normally_distributed = self.shapiro_wilks(self.var2)\n",
    "        if(var1_is_normally_distributed and var2_is_normally_distributed):\n",
    "            pearson = self.var1.corr(self.var2, method ='pearson')   \n",
    "        else:\n",
    "            print(\"Note that For the Pearson r correlation, both variables should be normally distributed.\")\n",
    "            print(\"And {} or {} is not normally distributed\".format(self.var1_name, self.var2_name))\n",
    "        return pearson\n",
    "    \n",
    "    \n",
    "    def spearsman_correlation(self):\n",
    "        pass\n",
    "    \n",
    "    def heat_map(self, data):\n",
    "        cor = data.corr()\n",
    "        plt.figure(figsize=(10, 6))\n",
    "        sns.heatmap(cor, annot=True)\n",
    "        \n",
    "        \n",
    "    def conclusions(self):\n",
    "        corr = self.pearson_correlation()   \n",
    "        if corr:\n",
    "            print(\"Pearson's correlation {}\".format(corr))\n",
    "            if corr <=-1 and corr >=-0.5:\n",
    "                print(\"Strong negative linear relationship between {} and {}\".format(self.var1_name, self.var2_name))\n",
    "            elif corr>=0.5 and corr<=1:\n",
    "                print(\"Strong positive linear relationship between {} and {}\".format(self.var1_name, self.var2_name))\n",
    "            else :\n",
    "                print(\"No !!! LINEAR !!! relationship between {} and {}\".format(self.var1_name, self.var2_name))\n",
    "        else:\n",
    "            print(\"Variables are not normally distributed to conclude anythin\")"
   ]
  },
  {
   "cell_type": "code",
   "execution_count": 9,
   "metadata": {},
   "outputs": [
    {
     "data": {
      "image/png": "[encoded data removed]",
      "text/plain": [
       "<Figure size 432x288 with 1 Axes>"
      ]
     },
     "metadata": {
      "needs_background": "light"
     },
     "output_type": "display_data"
    },
    {
     "name": "stdout",
     "output_type": "stream",
     "text": [
      "Statistics=0.471, p=0.000\n",
      "Variable is not normally distributed\n",
      "Statistics=0.482, p=0.000\n",
      "Variable is not normally distributed\n",
      "Note that For the Pearson r correlation, both variables should be normally distributed.\n",
      "And Applicant income or Coapplicant income is not normally distributed\n",
      "Variables are not normally distributed to conclude anythin\n"
     ]
    },
    {
     "data": {
      "image/png": "[encoded data removed]",
      "text/plain": [
       "<Figure size 720x432 with 2 Axes>"
      ]
     },
     "metadata": {
      "needs_background": "light"
     },
     "output_type": "display_data"
    }
   ],
   "source": [
    "cv  = COOCBIVARIATE(data.ApplicantIncome, data.CoapplicantIncome, \"Applicant income\", \"Coapplicant income\")\n",
    "cv.scatter_vars()\n",
    "cv.conclusions()\n",
    "cv.heat_map(data)"
   ]
  },
  {
   "cell_type": "markdown",
   "metadata": {},
   "source": [
    "   - **Categorical and categorical**"
   ]
  },
  {
   "cell_type": "code",
   "execution_count": 10,
   "metadata": {},
   "outputs": [],
   "source": [
    "class CAACBIVARIATE:\n",
    "    \n",
    "    def __init__(self, var1, var2, var1_name=\"\", var2_name =\"\"):\n",
    "        self.var1 = var1\n",
    "        self.var2 = var2\n",
    "        self.var1_name = var1_name\n",
    "        self.var2_name = var2_name\n",
    "      \n",
    "    \n",
    "    def chi_square(self, prob = 0.95):\n",
    "        # Assumptions : - Your categorical variable should be dichotomous \n",
    "        # - Contingency coefficient C cannot be used to compare associations among tables \n",
    "        # with different numbers of categories or in tables with a mix of categorical and continuous variables\n",
    "        are_dependent = False\n",
    "        cross_tab = pd.crosstab(self.var1, self.var2)\n",
    "        stat, p, dof, expected = chi2_contingency(cross_tab)\n",
    "        # interpret test-statistic\n",
    "        critical = chi2.ppf(prob, dof)\n",
    "#         print('probability = %.3f, critical = %.3f, stat = %.3f' % (prob, critical, stat))\n",
    "        if abs(stat) >= critical:\n",
    "#             print('{} & {} are Dependent'.format(self.var1_name, self.var2_name))\n",
    "            are_dependent = True\n",
    "#         else:\n",
    "#             print('{} & {} are Independent'.format(self.var1_name, self.var2_name))\n",
    "        # interpret p-value\n",
    "#         alpha = 1.0 - prob\n",
    "#         print('significance=%.3f, p=%.3f' % (alpha, p))\n",
    "#         if p <= alpha:\n",
    "#             print('{} & {} are Dependent'.format(self.var1_name, self.var2_name))\n",
    "#         else:\n",
    "#             print('{} & {} are Independent'.format(self.var1_name, self.var2_name))\n",
    "            \n",
    "        return are_dependent\n",
    "    \n",
    "    def fisher_score(self):\n",
    "        pass\n",
    "    \n",
    "    def crosstab(self):\n",
    "        cross_tab = pd.crosstab(self.var1, self.var2)\n",
    "        print(cross_tab)\n",
    "        cross_tab.plot(kind='bar', stacked=True, color=['red','blue'], grid=False)\n",
    "        \n",
    "    def select_relevant_features(self, response_field, categorical_features):\n",
    "        self.var1 = response_field\n",
    "        self.var1_name = response_field.name\n",
    "        tab = []\n",
    "        for feature in categorical_features:\n",
    "            self.var2 = categorical_features[feature]\n",
    "            self.var2_name = feature\n",
    "            are_dependent = self.chi_square()\n",
    "            dic = {\n",
    "                'Feature' : self.var2_name,\n",
    "                'Is_dependent_to_target' : are_dependent\n",
    "            }\n",
    "            tab.append(dic)\n",
    "        return tab"
   ]
  },
  {
   "cell_type": "code",
   "execution_count": 11,
   "metadata": {},
   "outputs": [],
   "source": [
    "class COACVARIATE:\n",
    "    \n",
    "    def __init__(self, var1, var2, var1_name=\"\", var2_name =\"\"):\n",
    "        self.var1 = var1\n",
    "        self.var2 = var2\n",
    "        self.var1_name = var1_name\n",
    "        self.var2_name = var2_name\n",
    "    \n",
    "#     def kendall_correlation(self):\n",
    "# #         print(self.var2.unique())\n",
    "#         kendall_coeff = self.var1.corr(self.var2, method ='kendall') \n",
    "#         print(kendall_coeff)\n",
    "        \n",
    "    def point_biserial_correlation(self):\n",
    "        # Assumptions : - Your continuous variable should be approximately \n",
    "        # NORMALLY distributed for \"\"each category\"\" of the dichotomous variable \"WE CAN SEE IF WE CAN NORMALIZE THE DATA\"\n",
    "        # - Your continuous variable should have equal variances \n",
    "        # for each category of the dichotomous variable\n",
    "#         continuous_first_category  = \n",
    "#         countinuous_second_category = \n",
    "#         if (continuous_first_category is normaly_distributed) and (continuous_second_category is normaly_distributed)\n",
    "#             and (len(self.var1.unique()) == 2)\n",
    "#             print(\"Ok\")\n",
    "# #             corr = pointbiserialr(self.var1, self.var2)\n",
    "# #             correlation_conclusion(corr, self.var1_name, self.var2_name)\n",
    "#         else:\n",
    "#             print(\"Point biserial correlation measure the concordance of a NORMALLY distributed continuous variable and DICHOTOMOUS variable\")\n",
    "\n",
    "    def logistic_regression(self):\n",
    "        pass"
   ]
  },
  {
   "cell_type": "markdown",
   "metadata": {},
   "source": [
    "### Data preperation\n",
    "   - Select best features\n",
    "   - Identify outliers\n",
    "   - Deal with NULL data"
   ]
  },
  {
   "cell_type": "code",
   "execution_count": 12,
   "metadata": {},
   "outputs": [],
   "source": [
    "### Response field is a categorical field\n"
   ]
  },
  {
   "cell_type": "code",
   "execution_count": 13,
   "metadata": {},
   "outputs": [
    {
     "data": {
      "text/plain": [
       "Index(['Gender', 'Married', 'Dependents', 'Self_Employed', 'Property_Area'], dtype='object')"
      ]
     },
     "execution_count": 13,
     "metadata": {},
     "output_type": "execute_result"
    }
   ],
   "source": [
    "categorical_features.columns"
   ]
  },
  {
   "cell_type": "code",
   "execution_count": 14,
   "metadata": {},
   "outputs": [
    {
     "data": {
      "text/plain": [
       "[{'Feature': 'Gender', 'Is_dependent_to_target': False},\n",
       " {'Feature': 'Married', 'Is_dependent_to_target': True},\n",
       " {'Feature': 'Dependents', 'Is_dependent_to_target': False},\n",
       " {'Feature': 'Self_Employed', 'Is_dependent_to_target': False},\n",
       " {'Feature': 'Property_Area', 'Is_dependent_to_target': True}]"
      ]
     },
     "execution_count": 14,
     "metadata": {},
     "output_type": "execute_result"
    }
   ],
   "source": [
    "categorical_features_selection = CAACBIVARIATE(data.Loan_Status, categorical_features.Gender)\n",
    "result = categorical_features_selection.select_relevant_features(data.Loan_Status, categorical_features)\n",
    "result"
   ]
  },
  {
   "cell_type": "code",
   "execution_count": 15,
   "metadata": {},
   "outputs": [
    {
     "name": "stdout",
     "output_type": "stream",
     "text": [
      "-0.0034032114855465654\n"
     ]
    },
    {
     "data": {
      "text/plain": [
       "Y    422\n",
       "N    192\n",
       "Name: Loan_Status, dtype: int64"
      ]
     },
     "execution_count": 15,
     "metadata": {},
     "output_type": "execute_result"
    }
   ],
   "source": [
    "loan = data.Loan_Status.copy()\n",
    "loan.map({'Y':1, 'N':0})\n",
    "continous_categ_bivariation = COACVARIATE(loan, data.ApplicantIncome)\n",
    "continous_categ_bivariation.kendall_correlation()\n",
    "loan.head()\n",
    "loan.value_counts()"
   ]
  },
  {
   "cell_type": "code",
   "execution_count": 16,
   "metadata": {},
   "outputs": [
    {
     "name": "stderr",
     "output_type": "stream",
     "text": [
      "//anaconda3/lib/python3.7/site-packages/numpy/lib/histograms.py:824: RuntimeWarning: invalid value encountered in greater_equal\n",
      "  keep = (tmp_a >= first_edge)\n",
      "//anaconda3/lib/python3.7/site-packages/numpy/lib/histograms.py:825: RuntimeWarning: invalid value encountered in less_equal\n",
      "  keep &= (tmp_a <= last_edge)\n"
     ]
    },
    {
     "data": {
      "text/plain": [
       "(array([ 2.,  7., 14., 17., 32., 32., 68., 74., 88., 48., 52., 22., 44.,\n",
       "        14., 11.,  6.,  6.,  7.,  9.,  5.,  4.,  5.,  3.,  1.,  2.,  1.,\n",
       "         3.,  0.,  2.,  0.,  1.,  0.,  0.,  0.,  4.,  3.,  0.,  0.,  0.,\n",
       "         0.,  1.,  0.,  2.,  0.,  0.,  0.,  1.,  0.,  0.,  1.]),\n",
       " array([  9.  ,  22.82,  36.64,  50.46,  64.28,  78.1 ,  91.92, 105.74,\n",
       "        119.56, 133.38, 147.2 , 161.02, 174.84, 188.66, 202.48, 216.3 ,\n",
       "        230.12, 243.94, 257.76, 271.58, 285.4 , 299.22, 313.04, 326.86,\n",
       "        340.68, 354.5 , 368.32, 382.14, 395.96, 409.78, 423.6 , 437.42,\n",
       "        451.24, 465.06, 478.88, 492.7 , 506.52, 520.34, 534.16, 547.98,\n",
       "        561.8 , 575.62, 589.44, 603.26, 617.08, 630.9 , 644.72, 658.54,\n",
       "        672.36, 686.18, 700.  ]),\n",
       " <a list of 50 Patch objects>)"
      ]
     },
     "execution_count": 16,
     "metadata": {},
     "output_type": "execute_result"
    },
    {
     "data": {
      "image/png": "[encoded data removed]",
      "text/plain": [
       "<Figure size 432x288 with 1 Axes>"
      ]
     },
     "metadata": {
      "needs_background": "light"
     },
     "output_type": "display_data"
    }
   ],
   "source": [
    "plt.hist(x=data.LoanAmount, bins=50, color='red', alpha=0.7, rwidth=0.85)"
   ]
  },
  {
   "cell_type": "code",
   "execution_count": 17,
   "metadata": {},
   "outputs": [],
   "source": [
    "attention = COOCBIVARIATE(data.ApplicantIncome, data.CoapplicantIncome)"
   ]
  },
  {
   "cell_type": "code",
   "execution_count": 18,
   "metadata": {},
   "outputs": [
    {
     "data": {
      "text/plain": [
       "(array([  6.,  91., 134.,  65.,  47.,  18.,  13.,  15.,   5.,   2.,   3.,\n",
       "          5.,   3.,   5.,   1.,   2.,   1.,   0.,   1.,   0.,   0.,   0.,\n",
       "          0.,   0.,   0.,   0.,   0.,   0.,   0.,   1.,   1.,   1.,   0.,\n",
       "          0.,   0.,   0.,   0.,   0.,   0.,   0.,   1.,   0.,   0.,   0.,\n",
       "          0.,   0.,   0.,   0.,   0.,   1.]),\n",
       " array([  210.  ,  1472.54,  2735.08,  3997.62,  5260.16,  6522.7 ,\n",
       "         7785.24,  9047.78, 10310.32, 11572.86, 12835.4 , 14097.94,\n",
       "        15360.48, 16623.02, 17885.56, 19148.1 , 20410.64, 21673.18,\n",
       "        22935.72, 24198.26, 25460.8 , 26723.34, 27985.88, 29248.42,\n",
       "        30510.96, 31773.5 , 33036.04, 34298.58, 35561.12, 36823.66,\n",
       "        38086.2 , 39348.74, 40611.28, 41873.82, 43136.36, 44398.9 ,\n",
       "        45661.44, 46923.98, 48186.52, 49449.06, 50711.6 , 51974.14,\n",
       "        53236.68, 54499.22, 55761.76, 57024.3 , 58286.84, 59549.38,\n",
       "        60811.92, 62074.46, 63337.  ]),\n",
       " <a list of 50 Patch objects>)"
      ]
     },
     "execution_count": 18,
     "metadata": {},
     "output_type": "execute_result"
    },
    {
     "data": {
      "image/png": "[encoded data removed]",
      "text/plain": [
       "<Figure size 432x288 with 1 Axes>"
      ]
     },
     "metadata": {
      "needs_background": "light"
     },
     "output_type": "display_data"
    }
   ],
   "source": [
    "data_copy = data.copy()\n",
    "data_copy = data_copy[data_copy.Loan_Status =='Y']\n",
    "plt.hist(x=data_copy.ApplicantIncome, bins=50, color='red', alpha=0.7, rwidth=0.85)"
   ]
  },
  {
   "cell_type": "code",
   "execution_count": 19,
   "metadata": {},
   "outputs": [
    {
     "data": {
      "text/plain": [
       "(array([ 8., 64., 61., 26.,  7.,  6.,  7.,  4.,  1.,  2.,  0.,  1.,  3.,\n",
       "         0.,  0.,  0.,  0.,  0.,  0.,  0.,  1.,  0.,  0.,  0.,  0.,  0.,\n",
       "         0.,  0.,  0.,  0.,  0.,  0.,  0.,  0.,  0.,  0.,  0.,  0.,  0.,\n",
       "         0.,  0.,  0.,  0.,  0.,  0.,  0.,  0.,  0.,  0.,  1.]),\n",
       " array([  150.,  1767.,  3384.,  5001.,  6618.,  8235.,  9852., 11469.,\n",
       "        13086., 14703., 16320., 17937., 19554., 21171., 22788., 24405.,\n",
       "        26022., 27639., 29256., 30873., 32490., 34107., 35724., 37341.,\n",
       "        38958., 40575., 42192., 43809., 45426., 47043., 48660., 50277.,\n",
       "        51894., 53511., 55128., 56745., 58362., 59979., 61596., 63213.,\n",
       "        64830., 66447., 68064., 69681., 71298., 72915., 74532., 76149.,\n",
       "        77766., 79383., 81000.]),\n",
       " <a list of 50 Patch objects>)"
      ]
     },
     "execution_count": 19,
     "metadata": {},
     "output_type": "execute_result"
    },
    {
     "data": {
      "image/png": "[encoded data removed]",
      "text/plain": [
       "<Figure size 432x288 with 1 Axes>"
      ]
     },
     "metadata": {
      "needs_background": "light"
     },
     "output_type": "display_data"
    }
   ],
   "source": [
    "data_copy = data.copy()\n",
    "data_copy = data_copy[data_copy.Loan_Status =='N']\n",
    "plt.hist(x=data_copy.ApplicantIncome, bins=50, color='red', alpha=0.7, rwidth=0.85)"
   ]
  },
  {
   "cell_type": "code",
   "execution_count": 21,
   "metadata": {},
   "outputs": [],
   "source": [
    "def correlation_conclusion(corr, var1_name, var2_name):\n",
    "    if corr <=-1 and corr >=-0.5:\n",
    "        print(\"Strong negative linear relationship between {} and {}\".format(var1_name, var2_name))       \n",
    "    elif corr>=0.5 and corr<=1:\n",
    "        print(\"Strong positive linear relationship between {} and {}\".format(var1_name, var2_name))\n",
    "    else :\n",
    "        print(\"No !!! LINEAR !!! relationship between {} and {}\".format(var1_name, var2_name))"
   ]
  },
  {
   "cell_type": "code",
   "execution_count": 29,
   "metadata": {},
   "outputs": [],
   "source": [
    "ser_1 = pd.Series([True, True, False, True, True, False])\n",
    "ser_2 = pd.Series([False, True, True, False, True, True])\n",
    "data = pd.DataFrame({'serie_1':ser_1, 'serie_2':ser_2})"
   ]
  },
  {
   "cell_type": "code",
   "execution_count": 32,
   "metadata": {},
   "outputs": [],
   "source": [
    "mask = data.serie_1 & data.serie_2"
   ]
  },
  {
   "cell_type": "code",
   "execution_count": 34,
   "metadata": {},
   "outputs": [],
   "source": [
    "new_data = data[mask]"
   ]
  },
  {
   "cell_type": "code",
   "execution_count": 46,
   "metadata": {},
   "outputs": [],
   "source": [
    "table = np.full(10, True)"
   ]
  },
  {
   "cell_type": "code",
   "execution_count": 47,
   "metadata": {},
   "outputs": [
    {
     "data": {
      "text/plain": [
       "array([ True,  True,  True,  True,  True,  True,  True,  True,  True,\n",
       "        True])"
      ]
     },
     "execution_count": 47,
     "metadata": {},
     "output_type": "execute_result"
    }
   ],
   "source": [
    "table"
   ]
  },
  {
   "cell_type": "code",
   "execution_count": 42,
   "metadata": {},
   "outputs": [
    {
     "data": {
      "text/plain": [
       "array([ True,  True, False,  True,  True, False])"
      ]
     },
     "execution_count": 42,
     "metadata": {},
     "output_type": "execute_result"
    }
   ],
   "source": [
    "tu"
   ]
  },
  {
   "cell_type": "code",
   "execution_count": null,
   "metadata": {},
   "outputs": [],
   "source": []
  }
 ],
 "metadata": {
  "kernelspec": {
   "display_name": "Python 3",
   "language": "python",
   "name": "python3"
  },
  "language_info": {
   "codemirror_mode": {
    "name": "ipython",
    "version": 3
   },
   "file_extension": ".py",
   "mimetype": "text/x-python",
   "name": "python",
   "nbconvert_exporter": "python",
   "pygments_lexer": "ipython3",
   "version": "3.7.3"
  }
 },
 "nbformat": 4,
 "nbformat_minor": 2
}
